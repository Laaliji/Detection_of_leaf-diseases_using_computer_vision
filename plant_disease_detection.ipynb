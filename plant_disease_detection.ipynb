{
  "nbformat": 4,
  "nbformat_minor": 0,
  "metadata": {
    "colab": {
      "provenance": [],
      "gpuType": "T4",
      "authorship_tag": "ABX9TyNFCDDCci8F7LPvxSuX8CJv",
      "include_colab_link": true
    },
    "kernelspec": {
      "name": "python3",
      "display_name": "Python 3"
    },
    "language_info": {
      "name": "python"
    },
    "accelerator": "GPU"
  },
  "cells": [
    {
      "cell_type": "markdown",
      "metadata": {
        "id": "view-in-github",
        "colab_type": "text"
      },
      "source": [
        "<a href=\"https://colab.research.google.com/github/Laaliji/Detection_of_leaf-diseases_using_computer_vision/blob/main/plant_disease_detection.ipynb\" target=\"_parent\"><img src=\"https://colab.research.google.com/assets/colab-badge.svg\" alt=\"Open In Colab\"/></a>"
      ]
    },
    {
      "cell_type": "markdown",
      "source": [
        "## **Préparation de l'environement**"
      ],
      "metadata": {
        "id": "csAYqccGUD9J"
      }
    },
    {
      "cell_type": "markdown",
      "source": [
        "### Montage de Drive"
      ],
      "metadata": {
        "id": "9_XxA5cXVjAj"
      }
    },
    {
      "cell_type": "code",
      "execution_count": 2,
      "metadata": {
        "colab": {
          "base_uri": "https://localhost:8080/"
        },
        "id": "DWP7LG5JTEuC",
        "outputId": "aa39b105-b2f2-47e7-b407-5943a700bc76"
      },
      "outputs": [
        {
          "output_type": "stream",
          "name": "stdout",
          "text": [
            "Mounted at /content/drive\n"
          ]
        }
      ],
      "source": [
        "from google.colab import drive\n",
        "drive.mount('/content/drive')"
      ]
    },
    {
      "cell_type": "code",
      "source": [
        "path = \"/content/drive/My Drive/archive(15)/New Plant Diseases Dataset(Augmented)/New Plant Diseases Dataset(Augmented)\"\n",
        "!ls \"$path\""
      ],
      "metadata": {
        "colab": {
          "base_uri": "https://localhost:8080/"
        },
        "id": "BFxbrweVWnLt",
        "outputId": "b1d8e69a-985c-4b0a-f86a-4b4b3f035cdb"
      },
      "execution_count": 3,
      "outputs": [
        {
          "output_type": "stream",
          "name": "stdout",
          "text": [
            "test  train  valid\n"
          ]
        }
      ]
    },
    {
      "cell_type": "markdown",
      "source": [
        "### Importation des bibliothèques"
      ],
      "metadata": {
        "id": "34DiNXw1Vxtj"
      }
    },
    {
      "cell_type": "code",
      "source": [
        "import tensorflow as tf\n",
        "import matplotlib.pyplot as plt\n",
        "import pandas as pd\n",
        "import seaborn as sns\n",
        "import os"
      ],
      "metadata": {
        "id": "vdoDfSSWTOJ1"
      },
      "execution_count": 4,
      "outputs": []
    },
    {
      "cell_type": "markdown",
      "source": [
        "## **Prétraitement des données**"
      ],
      "metadata": {
        "id": "YCrcvjw3V2gV"
      }
    },
    {
      "cell_type": "markdown",
      "source": [
        "### Prétraitement des images pour l'entraînement"
      ],
      "metadata": {
        "id": "BqRHqnyqWFcO"
      }
    },
    {
      "cell_type": "code",
      "source": [
        "train_dir = os.path.join(path, \"train\")\n",
        "training_set = tf.keras.utils.image_dataset_from_directory(\n",
        "    train_dir,\n",
        "    labels=\"inferred\",\n",
        "    label_mode=\"categorical\",\n",
        "    class_names=None,\n",
        "    color_mode=\"rgb\",\n",
        "    batch_size=32,\n",
        "    image_size=(128, 128),\n",
        "    shuffle=True,\n",
        "    seed=None,\n",
        "    validation_split=None,\n",
        "    subset=None,\n",
        "    interpolation=\"bilinear\",\n",
        "    follow_links=False,\n",
        "    crop_to_aspect_ratio=False,\n",
        ")\n"
      ],
      "metadata": {
        "colab": {
          "base_uri": "https://localhost:8080/"
        },
        "id": "zvYUDCbUUw-O",
        "outputId": "47814ae9-b435-4759-96fc-39128e8f6527"
      },
      "execution_count": 5,
      "outputs": [
        {
          "output_type": "stream",
          "name": "stdout",
          "text": [
            "Found 70319 files belonging to 38 classes.\n"
          ]
        }
      ]
    },
    {
      "cell_type": "markdown",
      "source": [
        "### Prétraitement des images pour la validation"
      ],
      "metadata": {
        "id": "75eSG-6IcLSg"
      }
    },
    {
      "cell_type": "code",
      "source": [
        "valid_dir = os.path.join(path, \"valid\")\n",
        "validation_set = tf.keras.utils.image_dataset_from_directory(\n",
        "    valid_dir,\n",
        "    labels=\"inferred\",\n",
        "    label_mode=\"categorical\",\n",
        "    class_names=None,\n",
        "    color_mode=\"rgb\",\n",
        "    batch_size=32,\n",
        "    image_size=(128, 128),\n",
        "    shuffle=True,\n",
        "    seed=None,\n",
        "    validation_split=None,\n",
        "    subset=None,\n",
        "    interpolation=\"bilinear\",\n",
        "    follow_links=False,\n",
        "    crop_to_aspect_ratio=False,\n",
        ")\n"
      ],
      "metadata": {
        "colab": {
          "base_uri": "https://localhost:8080/"
        },
        "id": "4QUzJvnyYn4g",
        "outputId": "0f4205a1-2797-47ca-fac9-80b25ad98d2b"
      },
      "execution_count": 6,
      "outputs": [
        {
          "output_type": "stream",
          "name": "stdout",
          "text": [
            "Found 17575 files belonging to 38 classes.\n"
          ]
        }
      ]
    },
    {
      "cell_type": "code",
      "source": [
        "training_set"
      ],
      "metadata": {
        "colab": {
          "base_uri": "https://localhost:8080/"
        },
        "id": "u2SEeGiGcjEH",
        "outputId": "235267dd-c9e9-445f-c6a6-4c024d9aa5ce"
      },
      "execution_count": 7,
      "outputs": [
        {
          "output_type": "execute_result",
          "data": {
            "text/plain": [
              "<_PrefetchDataset element_spec=(TensorSpec(shape=(None, 128, 128, 3), dtype=tf.float32, name=None), TensorSpec(shape=(None, 38), dtype=tf.float32, name=None))>"
            ]
          },
          "metadata": {},
          "execution_count": 7
        }
      ]
    },
    {
      "cell_type": "code",
      "source": [
        "for x,y in training_set:\n",
        "  print(x, x.shape)\n",
        "  print(y, y.shape)\n",
        "  break"
      ],
      "metadata": {
        "colab": {
          "base_uri": "https://localhost:8080/"
        },
        "id": "usoKqsYzgPjS",
        "outputId": "9ba7fe35-ab7c-401a-d748-bf7ec568d36d"
      },
      "execution_count": 8,
      "outputs": [
        {
          "output_type": "stream",
          "name": "stdout",
          "text": [
            "tf.Tensor(\n",
            "[[[[145.5  141.5  156.5 ]\n",
            "   [138.5  134.5  149.5 ]\n",
            "   [141.   137.   152.  ]\n",
            "   ...\n",
            "   [ 91.5   93.5  118.5 ]\n",
            "   [ 85.25  87.25 112.25]\n",
            "   [ 85.    87.   112.  ]]\n",
            "\n",
            "  [[138.75 134.75 149.75]\n",
            "   [140.75 136.75 151.75]\n",
            "   [141.25 137.25 152.25]\n",
            "   ...\n",
            "   [ 83.25  85.25 110.25]\n",
            "   [ 93.25  95.25 120.25]\n",
            "   [ 90.5   92.5  117.5 ]]\n",
            "\n",
            "  [[138.25 134.25 149.25]\n",
            "   [136.5  132.5  147.5 ]\n",
            "   [134.5  130.5  145.5 ]\n",
            "   ...\n",
            "   [ 86.75  88.75 113.75]\n",
            "   [ 83.    85.   110.  ]\n",
            "   [ 96.    98.   123.  ]]\n",
            "\n",
            "  ...\n",
            "\n",
            "  [[217.   208.   225.  ]\n",
            "   [207.75 199.75 214.75]\n",
            "   [210.25 202.25 217.25]\n",
            "   ...\n",
            "   [193.   189.   204.  ]\n",
            "   [193.75 189.75 204.75]\n",
            "   [194.5  190.5  205.5 ]]\n",
            "\n",
            "  [[216.5  207.5  224.5 ]\n",
            "   [220.25 212.25 227.25]\n",
            "   [222.75 214.75 229.75]\n",
            "   ...\n",
            "   [194.75 190.75 205.75]\n",
            "   [192.   188.   203.  ]\n",
            "   [190.25 186.25 201.25]]\n",
            "\n",
            "  [[221.25 212.25 229.25]\n",
            "   [216.75 208.75 223.75]\n",
            "   [217.5  209.5  224.5 ]\n",
            "   ...\n",
            "   [191.25 187.25 202.25]\n",
            "   [192.   188.   203.  ]\n",
            "   [192.   188.   203.  ]]]\n",
            "\n",
            "\n",
            " [[[107.   103.   100.  ]\n",
            "   [107.75 103.75 100.75]\n",
            "   [105.75 101.75  98.75]\n",
            "   ...\n",
            "   [119.25 114.25 111.25]\n",
            "   [108.25 103.25 100.25]\n",
            "   [106.   101.    98.  ]]\n",
            "\n",
            "  [[100.25  96.25  93.25]\n",
            "   [114.75 110.75 107.75]\n",
            "   [101.75  97.75  94.75]\n",
            "   ...\n",
            "   [105.75 100.75  97.75]\n",
            "   [120.25 115.25 112.25]\n",
            "   [124.   119.   116.  ]]\n",
            "\n",
            "  [[102.    98.    95.  ]\n",
            "   [105.75 101.75  98.75]\n",
            "   [ 92.    88.    85.  ]\n",
            "   ...\n",
            "   [113.75 108.75 105.75]\n",
            "   [117.5  112.5  109.5 ]\n",
            "   [110.   105.   102.  ]]\n",
            "\n",
            "  ...\n",
            "\n",
            "  [[162.75 160.75 161.75]\n",
            "   [160.5  158.5  159.5 ]\n",
            "   [161.75 159.75 160.75]\n",
            "   ...\n",
            "   [161.   159.   160.  ]\n",
            "   [166.25 164.25 165.25]\n",
            "   [165.5  163.5  164.5 ]]\n",
            "\n",
            "  [[162.   160.   161.  ]\n",
            "   [164.25 162.25 163.25]\n",
            "   [166.5  164.5  165.5 ]\n",
            "   ...\n",
            "   [160.75 158.75 159.75]\n",
            "   [163.75 161.75 162.75]\n",
            "   [163.5  161.5  162.5 ]]\n",
            "\n",
            "  [[162.   160.   161.  ]\n",
            "   [167.25 165.25 166.25]\n",
            "   [172.5  170.5  171.5 ]\n",
            "   ...\n",
            "   [160.75 158.75 159.75]\n",
            "   [164.75 162.75 163.75]\n",
            "   [166.   164.   165.  ]]]\n",
            "\n",
            "\n",
            " [[[138.25 127.25 125.25]\n",
            "   [141.75 130.75 128.75]\n",
            "   [141.75 130.75 128.75]\n",
            "   ...\n",
            "   [180.   170.   169.  ]\n",
            "   [180.   170.   169.  ]\n",
            "   [182.   172.   171.  ]]\n",
            "\n",
            "  [[131.   120.   118.  ]\n",
            "   [126.5  115.5  113.5 ]\n",
            "   [136.75 125.75 123.75]\n",
            "   ...\n",
            "   [197.   187.   186.  ]\n",
            "   [181.   171.   170.  ]\n",
            "   [189.75 179.75 178.75]]\n",
            "\n",
            "  [[122.5  111.5  109.5 ]\n",
            "   [157.25 146.25 144.25]\n",
            "   [134.25 123.25 121.25]\n",
            "   ...\n",
            "   [187.75 177.75 176.75]\n",
            "   [192.5  182.5  181.5 ]\n",
            "   [197.75 187.75 186.75]]\n",
            "\n",
            "  ...\n",
            "\n",
            "  [[119.75 105.75 105.75]\n",
            "   [133.   119.   119.  ]\n",
            "   [128.   114.   114.  ]\n",
            "   ...\n",
            "   [159.25 147.25 151.25]\n",
            "   [155.25 143.25 147.25]\n",
            "   [152.75 140.75 144.75]]\n",
            "\n",
            "  [[114.75 100.75 100.75]\n",
            "   [131.   117.   117.  ]\n",
            "   [132.   118.   118.  ]\n",
            "   ...\n",
            "   [147.75 135.75 139.75]\n",
            "   [151.5  139.5  143.5 ]\n",
            "   [149.75 137.75 141.75]]\n",
            "\n",
            "  [[125.5  111.5  111.5 ]\n",
            "   [123.   109.   109.  ]\n",
            "   [125.25 111.25 111.25]\n",
            "   ...\n",
            "   [163.5  151.5  155.5 ]\n",
            "   [151.   139.   143.  ]\n",
            "   [152.75 140.75 144.75]]]\n",
            "\n",
            "\n",
            " ...\n",
            "\n",
            "\n",
            " [[[217.5  200.5  193.5 ]\n",
            "   [219.5  202.5  195.5 ]\n",
            "   [213.   198.   191.  ]\n",
            "   ...\n",
            "   [209.5  198.5  192.5 ]\n",
            "   [217.25 206.25 200.25]\n",
            "   [214.75 203.75 197.75]]\n",
            "\n",
            "  [[214.   199.   192.  ]\n",
            "   [214.75 199.75 192.75]\n",
            "   [212.75 197.75 190.75]\n",
            "   ...\n",
            "   [215.5  204.5  198.5 ]\n",
            "   [213.25 202.25 196.25]\n",
            "   [214.25 203.25 197.25]]\n",
            "\n",
            "  [[213.5  198.5  191.5 ]\n",
            "   [212.75 197.75 190.75]\n",
            "   [214.75 199.75 192.75]\n",
            "   ...\n",
            "   [218.   207.   201.  ]\n",
            "   [214.25 203.25 197.25]\n",
            "   [219.75 208.75 202.75]]\n",
            "\n",
            "  ...\n",
            "\n",
            "  [[196.75 179.75 172.75]\n",
            "   [195.   178.   171.  ]\n",
            "   [200.5  183.5  176.5 ]\n",
            "   ...\n",
            "   [193.   176.   168.  ]\n",
            "   [197.5  180.5  172.5 ]\n",
            "   [195.5  178.5  170.5 ]]\n",
            "\n",
            "  [[196.   179.   172.  ]\n",
            "   [194.5  177.5  170.5 ]\n",
            "   [199.75 182.75 175.75]\n",
            "   ...\n",
            "   [198.75 181.75 173.75]\n",
            "   [191.5  174.5  166.5 ]\n",
            "   [202.   185.   177.  ]]\n",
            "\n",
            "  [[195.25 178.25 171.25]\n",
            "   [193.75 176.75 169.75]\n",
            "   [199.25 182.25 175.25]\n",
            "   ...\n",
            "   [200.   183.   175.  ]\n",
            "   [194.75 177.75 169.75]\n",
            "   [194.75 177.75 169.75]]]\n",
            "\n",
            "\n",
            " [[[143.5  137.5  141.5 ]\n",
            "   [140.25 134.25 138.25]\n",
            "   [130.5  124.5  128.5 ]\n",
            "   ...\n",
            "   [165.25 159.25 163.25]\n",
            "   [152.75 146.75 150.75]\n",
            "   [150.   144.   148.  ]]\n",
            "\n",
            "  [[138.5  132.5  136.5 ]\n",
            "   [140.5  134.5  138.5 ]\n",
            "   [133.75 127.75 131.75]\n",
            "   ...\n",
            "   [156.   150.   154.  ]\n",
            "   [146.75 140.75 144.75]\n",
            "   [134.5  128.5  132.5 ]]\n",
            "\n",
            "  [[121.5  115.5  119.5 ]\n",
            "   [126.75 120.75 124.75]\n",
            "   [143.   137.   141.  ]\n",
            "   ...\n",
            "   [142.75 136.75 140.75]\n",
            "   [161.75 155.75 159.75]\n",
            "   [143.   137.   141.  ]]\n",
            "\n",
            "  ...\n",
            "\n",
            "  [[ 92.25  91.25  96.25]\n",
            "   [ 72.75  71.75  76.75]\n",
            "   [ 78.75  77.75  82.75]\n",
            "   ...\n",
            "   [ 84.75  83.75  88.75]\n",
            "   [ 85.5   84.5   89.5 ]\n",
            "   [ 52.75  51.75  56.75]]\n",
            "\n",
            "  [[ 79.    78.    83.  ]\n",
            "   [ 69.25  68.25  73.25]\n",
            "   [ 76.    75.    80.  ]\n",
            "   ...\n",
            "   [ 69.    68.    73.  ]\n",
            "   [ 68.75  67.75  72.75]\n",
            "   [ 87.    86.    91.  ]]\n",
            "\n",
            "  [[ 65.    64.    69.  ]\n",
            "   [ 69.    68.    73.  ]\n",
            "   [ 70.5   69.5   74.5 ]\n",
            "   ...\n",
            "   [ 59.25  58.25  63.25]\n",
            "   [ 63.75  62.75  67.75]\n",
            "   [ 64.5   63.5   68.5 ]]]\n",
            "\n",
            "\n",
            " [[[127.   124.   135.  ]\n",
            "   [128.   125.   136.  ]\n",
            "   [130.   127.   138.  ]\n",
            "   ...\n",
            "   [134.25 132.25 146.25]\n",
            "   [141.75 139.75 153.75]\n",
            "   [135.75 133.75 147.75]]\n",
            "\n",
            "  [[133.25 130.25 141.25]\n",
            "   [131.5  128.5  139.5 ]\n",
            "   [126.75 123.75 134.75]\n",
            "   ...\n",
            "   [131.   129.   143.  ]\n",
            "   [136.75 134.75 148.75]\n",
            "   [130.75 128.75 142.75]]\n",
            "\n",
            "  [[131.25 128.25 139.25]\n",
            "   [124.75 121.75 132.75]\n",
            "   [131.25 128.25 139.25]\n",
            "   ...\n",
            "   [142.75 140.75 154.75]\n",
            "   [136.25 134.25 148.25]\n",
            "   [145.75 143.75 157.75]]\n",
            "\n",
            "  ...\n",
            "\n",
            "  [[158.25 160.25 173.25]\n",
            "   [158.5  160.5  173.5 ]\n",
            "   [155.5  157.5  170.5 ]\n",
            "   ...\n",
            "   [187.75 185.75 198.75]\n",
            "   [184.5  182.5  195.5 ]\n",
            "   [183.25 181.25 194.25]]\n",
            "\n",
            "  [[170.75 172.75 185.75]\n",
            "   [162.75 164.75 177.75]\n",
            "   [158.75 160.75 173.75]\n",
            "   ...\n",
            "   [190.   188.   201.  ]\n",
            "   [185.   183.   196.  ]\n",
            "   [184.   182.   195.  ]]\n",
            "\n",
            "  [[167.75 169.75 182.75]\n",
            "   [154.75 156.75 169.75]\n",
            "   [165.25 167.25 180.25]\n",
            "   ...\n",
            "   [188.75 186.75 199.75]\n",
            "   [185.   183.   196.  ]\n",
            "   [181.5  179.5  192.5 ]]]], shape=(32, 128, 128, 3), dtype=float32) (32, 128, 128, 3)\n",
            "tf.Tensor(\n",
            "[[0. 0. 0. ... 0. 0. 0.]\n",
            " [0. 0. 0. ... 0. 0. 0.]\n",
            " [0. 0. 0. ... 0. 0. 0.]\n",
            " ...\n",
            " [0. 0. 0. ... 0. 0. 0.]\n",
            " [0. 0. 0. ... 0. 0. 1.]\n",
            " [0. 0. 0. ... 0. 0. 0.]], shape=(32, 38), dtype=float32) (32, 38)\n"
          ]
        }
      ]
    },
    {
      "cell_type": "code",
      "source": [],
      "metadata": {
        "id": "1T6iOi57slnl"
      },
      "execution_count": null,
      "outputs": []
    }
  ]
}